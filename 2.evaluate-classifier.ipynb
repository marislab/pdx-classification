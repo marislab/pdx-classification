{
 "cells": [
  {
   "cell_type": "markdown",
   "metadata": {},
   "source": [
    "# Evaluate Predictions Made on PDX Samples\n",
    "\n",
    "**Gregory Way, 2018**\n",
    "\n",
    "In the following notebook I evaluate the predictions made by the Ras and _TP53_ classifiers in the input PDX RNAseq data.\n",
    "\n",
    "## Procedure\n",
    "\n",
    "1. Load status matrices\n",
    "  * These files store the mutation status for _TP53_ and Ras pathway genes for the input samples\n",
    "2. Align barcode identifiers\n",
    "  * The identifiers matching the RNAseq data to the status matrix are not aligned.\n",
    "  * I use an intermediate dictionary to map common identifiers\n",
    "3. Load predictions (see `1.apply-classifier.ipynb` for more details)\n",
    "4. Evaluate predictions\n",
    "  * I visualize the distribution of predictions between wild-type and mutant samples for both classifiers\n",
    "\n",
    "### Important Caveat\n",
    "\n",
    "Many of the barcodes require updating.\n",
    "Some samples are not identified.\n",
    "I remove these samples from downstream evaluation, but discrepancies should be reconciled at a later date.\n",
    "\n",
    "## Output\n",
    "\n",
    "The output of this notebook are several evaluation figures demonstrating the predictive performance on the input data for the two classifiers. Included in this output are predictions stratified by histology."
   ]
  },
  {
   "cell_type": "code",
   "execution_count": 1,
   "metadata": {},
   "outputs": [],
   "source": [
    "import os\n",
    "import random\n",
    "from decimal import Decimal\n",
    "from scipy.stats import ttest_ind\n",
    "import numpy as np\n",
    "import pandas as pd\n",
    "\n",
    "from sklearn.metrics import average_precision_score, roc_auc_score\n",
    "from sklearn.metrics import roc_curve, precision_recall_curve\n",
    "\n",
    "import seaborn as sns\n",
    "import matplotlib.pyplot as plt"
   ]
  },
  {
   "cell_type": "code",
   "execution_count": 2,
   "metadata": {},
   "outputs": [],
   "source": [
    "%matplotlib inline"
   ]
  },
  {
   "cell_type": "markdown",
   "metadata": {},
   "source": [
    "## Load Ras Status Matrix"
   ]
  },
  {
   "cell_type": "code",
   "execution_count": 3,
   "metadata": {},
   "outputs": [
    {
     "name": "stdout",
     "output_type": "stream",
     "text": [
      "(47, 16)\n"
     ]
    },
    {
     "data": {
      "text/html": [
       "<div>\n",
       "<style scoped>\n",
       "    .dataframe tbody tr th:only-of-type {\n",
       "        vertical-align: middle;\n",
       "    }\n",
       "\n",
       "    .dataframe tbody tr th {\n",
       "        vertical-align: top;\n",
       "    }\n",
       "\n",
       "    .dataframe thead th {\n",
       "        text-align: right;\n",
       "    }\n",
       "</style>\n",
       "<table border=\"1\" class=\"dataframe\">\n",
       "  <thead>\n",
       "    <tr style=\"text-align: right;\">\n",
       "      <th></th>\n",
       "      <th>Hugo_Symbol</th>\n",
       "      <th>Chromosome</th>\n",
       "      <th>Start_position</th>\n",
       "      <th>End_position</th>\n",
       "      <th>Strand</th>\n",
       "      <th>Reference_Allele</th>\n",
       "      <th>Tumor_Seq_Allele1</th>\n",
       "      <th>Tumor_Seq_Allele2</th>\n",
       "      <th>Variant_Classification</th>\n",
       "      <th>Variant_Type</th>\n",
       "      <th>Tumor_Sample_Barcode</th>\n",
       "      <th>Codon_Change</th>\n",
       "      <th>cDNA_Change</th>\n",
       "      <th>Protein_Change</th>\n",
       "      <th>VAF</th>\n",
       "      <th>Confidence</th>\n",
       "    </tr>\n",
       "  </thead>\n",
       "  <tbody>\n",
       "    <tr>\n",
       "      <th>0</th>\n",
       "      <td>KRAS</td>\n",
       "      <td>12</td>\n",
       "      <td>25398284</td>\n",
       "      <td>25398284</td>\n",
       "      <td>+</td>\n",
       "      <td>C</td>\n",
       "      <td>C</td>\n",
       "      <td>A</td>\n",
       "      <td>Missense_Mutation</td>\n",
       "      <td>SNP</td>\n",
       "      <td>TARGET-10-PPT088-60A-01D-human</td>\n",
       "      <td>c.(34-36)gGt&gt;gTt</td>\n",
       "      <td>c.35G&gt;T</td>\n",
       "      <td>p.G12V</td>\n",
       "      <td>0.425926</td>\n",
       "      <td>high</td>\n",
       "    </tr>\n",
       "    <tr>\n",
       "      <th>1</th>\n",
       "      <td>KRAS</td>\n",
       "      <td>12</td>\n",
       "      <td>25398284</td>\n",
       "      <td>25398284</td>\n",
       "      <td>+</td>\n",
       "      <td>C</td>\n",
       "      <td>C</td>\n",
       "      <td>T</td>\n",
       "      <td>Missense_Mutation</td>\n",
       "      <td>SNP</td>\n",
       "      <td>TARGET-30-PPT062-61A-01D-human</td>\n",
       "      <td>c.(34-36)gGt&gt;gAt</td>\n",
       "      <td>c.35G&gt;A</td>\n",
       "      <td>p.G12D</td>\n",
       "      <td>0.515670</td>\n",
       "      <td>high</td>\n",
       "    </tr>\n",
       "    <tr>\n",
       "      <th>2</th>\n",
       "      <td>ALK</td>\n",
       "      <td>2</td>\n",
       "      <td>29443695</td>\n",
       "      <td>29443695</td>\n",
       "      <td>+</td>\n",
       "      <td>G</td>\n",
       "      <td>G</td>\n",
       "      <td>T</td>\n",
       "      <td>Missense_Mutation</td>\n",
       "      <td>SNP</td>\n",
       "      <td>TARGET-30-PPT059-61A-01D-human</td>\n",
       "      <td>c.(3520-3522)ttC&gt;ttA</td>\n",
       "      <td>c.3522C&gt;A</td>\n",
       "      <td>p.F1174L</td>\n",
       "      <td>0.670213</td>\n",
       "      <td>high</td>\n",
       "    </tr>\n",
       "  </tbody>\n",
       "</table>\n",
       "</div>"
      ],
      "text/plain": [
       "  Hugo_Symbol  Chromosome  Start_position  End_position Strand  \\\n",
       "0        KRAS          12        25398284      25398284      +   \n",
       "1        KRAS          12        25398284      25398284      +   \n",
       "2         ALK           2        29443695      29443695      +   \n",
       "\n",
       "  Reference_Allele Tumor_Seq_Allele1 Tumor_Seq_Allele2 Variant_Classification  \\\n",
       "0                C                 C                 A      Missense_Mutation   \n",
       "1                C                 C                 T      Missense_Mutation   \n",
       "2                G                 G                 T      Missense_Mutation   \n",
       "\n",
       "  Variant_Type            Tumor_Sample_Barcode          Codon_Change  \\\n",
       "0          SNP  TARGET-10-PPT088-60A-01D-human      c.(34-36)gGt>gTt   \n",
       "1          SNP  TARGET-30-PPT062-61A-01D-human      c.(34-36)gGt>gAt   \n",
       "2          SNP  TARGET-30-PPT059-61A-01D-human  c.(3520-3522)ttC>ttA   \n",
       "\n",
       "  cDNA_Change Protein_Change       VAF Confidence  \n",
       "0     c.35G>T         p.G12V  0.425926       high  \n",
       "1     c.35G>A         p.G12D  0.515670       high  \n",
       "2   c.3522C>A       p.F1174L  0.670213       high  "
      ]
     },
     "execution_count": 3,
     "metadata": {},
     "output_type": "execute_result"
    }
   ],
   "source": [
    "file = os.path.join('data', 'raw', 'ras.genes.txt')\n",
    "ras_status_df = pd.read_table(file)\n",
    "print(ras_status_df.shape)\n",
    "ras_status_df.head(3)"
   ]
  },
  {
   "cell_type": "code",
   "execution_count": 4,
   "metadata": {},
   "outputs": [
    {
     "data": {
      "text/plain": [
       "42"
      ]
     },
     "execution_count": 4,
     "metadata": {},
     "output_type": "execute_result"
    }
   ],
   "source": [
    "len(ras_status_df.Tumor_Sample_Barcode.unique())"
   ]
  },
  {
   "cell_type": "code",
   "execution_count": 5,
   "metadata": {},
   "outputs": [
    {
     "data": {
      "text/plain": [
       "ALK     18\n",
       "NF1     14\n",
       "KRAS     9\n",
       "HRAS     3\n",
       "BRAF     3\n",
       "Name: Hugo_Symbol, dtype: int64"
      ]
     },
     "execution_count": 5,
     "metadata": {},
     "output_type": "execute_result"
    }
   ],
   "source": [
    "ras_status_df.Hugo_Symbol.value_counts()"
   ]
  },
  {
   "cell_type": "code",
   "execution_count": 6,
   "metadata": {},
   "outputs": [
    {
     "data": {
      "text/plain": [
       "Missense_Mutation    36\n",
       "Nonsense_Mutation     7\n",
       "Frame_Shift_Ins       2\n",
       "Splice_Site           1\n",
       "Frame_Shift_Del       1\n",
       "Name: Variant_Classification, dtype: int64"
      ]
     },
     "execution_count": 6,
     "metadata": {},
     "output_type": "execute_result"
    }
   ],
   "source": [
    "ras_status_df.Variant_Classification.value_counts()"
   ]
  },
  {
   "cell_type": "markdown",
   "metadata": {},
   "source": [
    "## Load _TP53_ Status Matrix"
   ]
  },
  {
   "cell_type": "code",
   "execution_count": 7,
   "metadata": {},
   "outputs": [
    {
     "name": "stdout",
     "output_type": "stream",
     "text": [
      "(61, 15)\n"
     ]
    },
    {
     "data": {
      "text/html": [
       "<div>\n",
       "<style scoped>\n",
       "    .dataframe tbody tr th:only-of-type {\n",
       "        vertical-align: middle;\n",
       "    }\n",
       "\n",
       "    .dataframe tbody tr th {\n",
       "        vertical-align: top;\n",
       "    }\n",
       "\n",
       "    .dataframe thead th {\n",
       "        text-align: right;\n",
       "    }\n",
       "</style>\n",
       "<table border=\"1\" class=\"dataframe\">\n",
       "  <thead>\n",
       "    <tr style=\"text-align: right;\">\n",
       "      <th></th>\n",
       "      <th>Hugo_Symbol</th>\n",
       "      <th>Chromosome</th>\n",
       "      <th>Start_position</th>\n",
       "      <th>End_position</th>\n",
       "      <th>Strand</th>\n",
       "      <th>Reference_Allele</th>\n",
       "      <th>Tumor_Seq_Allele1</th>\n",
       "      <th>Tumor_Seq_Allele2</th>\n",
       "      <th>Variant_Classification</th>\n",
       "      <th>Variant_Type</th>\n",
       "      <th>Tumor_Sample_Barcode</th>\n",
       "      <th>Codon_Change</th>\n",
       "      <th>cDNA_Change</th>\n",
       "      <th>Protein_Change</th>\n",
       "      <th>VAF</th>\n",
       "    </tr>\n",
       "  </thead>\n",
       "  <tbody>\n",
       "    <tr>\n",
       "      <th>0</th>\n",
       "      <td>TP53</td>\n",
       "      <td>17</td>\n",
       "      <td>7577094</td>\n",
       "      <td>7577094</td>\n",
       "      <td>+</td>\n",
       "      <td>G</td>\n",
       "      <td>G</td>\n",
       "      <td>A</td>\n",
       "      <td>Missense_Mutation</td>\n",
       "      <td>SNP</td>\n",
       "      <td>TARGET-80-PPT050-60A-01D-human</td>\n",
       "      <td>c.(844-846)Cgg&gt;Tgg</td>\n",
       "      <td>c.844C&gt;T</td>\n",
       "      <td>p.R282W</td>\n",
       "      <td>0.909091</td>\n",
       "    </tr>\n",
       "    <tr>\n",
       "      <th>1</th>\n",
       "      <td>TP53</td>\n",
       "      <td>17</td>\n",
       "      <td>7578403</td>\n",
       "      <td>7578403</td>\n",
       "      <td>+</td>\n",
       "      <td>C</td>\n",
       "      <td>C</td>\n",
       "      <td>A</td>\n",
       "      <td>Missense_Mutation</td>\n",
       "      <td>SNP</td>\n",
       "      <td>TARGET-30-PPT059-61A-01D-human</td>\n",
       "      <td>c.(526-528)tGc&gt;tTc</td>\n",
       "      <td>c.527G&gt;T</td>\n",
       "      <td>p.C176F</td>\n",
       "      <td>1.000000</td>\n",
       "    </tr>\n",
       "    <tr>\n",
       "      <th>2</th>\n",
       "      <td>TP53</td>\n",
       "      <td>17</td>\n",
       "      <td>7578403</td>\n",
       "      <td>7578403</td>\n",
       "      <td>+</td>\n",
       "      <td>C</td>\n",
       "      <td>C</td>\n",
       "      <td>T</td>\n",
       "      <td>Missense_Mutation</td>\n",
       "      <td>SNP</td>\n",
       "      <td>TARGET-50-PPT027-60A-01D-human</td>\n",
       "      <td>c.(526-528)tGc&gt;tAc</td>\n",
       "      <td>c.527G&gt;A</td>\n",
       "      <td>p.C176Y</td>\n",
       "      <td>0.965517</td>\n",
       "    </tr>\n",
       "  </tbody>\n",
       "</table>\n",
       "</div>"
      ],
      "text/plain": [
       "  Hugo_Symbol  Chromosome  Start_position  End_position Strand  \\\n",
       "0        TP53          17         7577094       7577094      +   \n",
       "1        TP53          17         7578403       7578403      +   \n",
       "2        TP53          17         7578403       7578403      +   \n",
       "\n",
       "  Reference_Allele Tumor_Seq_Allele1 Tumor_Seq_Allele2 Variant_Classification  \\\n",
       "0                G                 G                 A      Missense_Mutation   \n",
       "1                C                 C                 A      Missense_Mutation   \n",
       "2                C                 C                 T      Missense_Mutation   \n",
       "\n",
       "  Variant_Type            Tumor_Sample_Barcode        Codon_Change  \\\n",
       "0          SNP  TARGET-80-PPT050-60A-01D-human  c.(844-846)Cgg>Tgg   \n",
       "1          SNP  TARGET-30-PPT059-61A-01D-human  c.(526-528)tGc>tTc   \n",
       "2          SNP  TARGET-50-PPT027-60A-01D-human  c.(526-528)tGc>tAc   \n",
       "\n",
       "  cDNA_Change Protein_Change       VAF  \n",
       "0    c.844C>T        p.R282W  0.909091  \n",
       "1    c.527G>T        p.C176F  1.000000  \n",
       "2    c.527G>A        p.C176Y  0.965517  "
      ]
     },
     "execution_count": 7,
     "metadata": {},
     "output_type": "execute_result"
    }
   ],
   "source": [
    "file = os.path.join('data', 'raw', 'tp53.muts.txt')\n",
    "tp53_status_df = pd.read_table(file)\n",
    "print(tp53_status_df.shape)\n",
    "tp53_status_df.head(3)"
   ]
  },
  {
   "cell_type": "code",
   "execution_count": 8,
   "metadata": {},
   "outputs": [
    {
     "data": {
      "text/plain": [
       "55"
      ]
     },
     "execution_count": 8,
     "metadata": {},
     "output_type": "execute_result"
    }
   ],
   "source": [
    "len(tp53_status_df.Tumor_Sample_Barcode.unique())"
   ]
  },
  {
   "cell_type": "code",
   "execution_count": 9,
   "metadata": {},
   "outputs": [
    {
     "data": {
      "text/plain": [
       "TP53    61\n",
       "Name: Hugo_Symbol, dtype: int64"
      ]
     },
     "execution_count": 9,
     "metadata": {},
     "output_type": "execute_result"
    }
   ],
   "source": [
    "tp53_status_df.Hugo_Symbol.value_counts()"
   ]
  },
  {
   "cell_type": "code",
   "execution_count": 10,
   "metadata": {},
   "outputs": [
    {
     "data": {
      "text/plain": [
       "Missense_Mutation    45\n",
       "Nonsense_Mutation     6\n",
       "In_Frame_Del          4\n",
       "Frame_Shift_Del       4\n",
       "Splice_Site           2\n",
       "Name: Variant_Classification, dtype: int64"
      ]
     },
     "execution_count": 10,
     "metadata": {},
     "output_type": "execute_result"
    }
   ],
   "source": [
    "tp53_status_df.Variant_Classification.value_counts()"
   ]
  },
  {
   "cell_type": "markdown",
   "metadata": {},
   "source": [
    "## Load Barcode Map"
   ]
  },
  {
   "cell_type": "code",
   "execution_count": 11,
   "metadata": {},
   "outputs": [
    {
     "name": "stdout",
     "output_type": "stream",
     "text": [
      "(373, 71)\n"
     ]
    },
    {
     "data": {
      "text/html": [
       "<div>\n",
       "<style scoped>\n",
       "    .dataframe tbody tr th:only-of-type {\n",
       "        vertical-align: middle;\n",
       "    }\n",
       "\n",
       "    .dataframe tbody tr th {\n",
       "        vertical-align: top;\n",
       "    }\n",
       "\n",
       "    .dataframe thead th {\n",
       "        text-align: right;\n",
       "    }\n",
       "</style>\n",
       "<table border=\"1\" class=\"dataframe\">\n",
       "  <thead>\n",
       "    <tr style=\"text-align: right;\">\n",
       "      <th></th>\n",
       "      <th>Part of PPTC</th>\n",
       "      <th>Consent to Share Data?</th>\n",
       "      <th>Data missing</th>\n",
       "      <th>Model</th>\n",
       "      <th>Diagnosis</th>\n",
       "      <th>CaseID</th>\n",
       "      <th>SampleName</th>\n",
       "      <th>TARGET-USI</th>\n",
       "      <th>Tumor_Sample_Barcode</th>\n",
       "      <th>Histology</th>\n",
       "      <th>...</th>\n",
       "      <th>EBV PCR testing</th>\n",
       "      <th>Pathogenic Virus testing Lab</th>\n",
       "      <th>Pathogenic Virus results</th>\n",
       "      <th>Size of tumors harvested for banking/characterization (mm?)</th>\n",
       "      <th>Lag passage 1 injection to harvest for banking (days?)</th>\n",
       "      <th>Lag passage 2 injection to harvest for banking (days?)</th>\n",
       "      <th>Doubling time (days)</th>\n",
       "      <th>Passage for doubling time</th>\n",
       "      <th>Max number of passages documented</th>\n",
       "      <th>Matching cell line from same patient?</th>\n",
       "    </tr>\n",
       "  </thead>\n",
       "  <tbody>\n",
       "    <tr>\n",
       "      <th>0</th>\n",
       "      <td>yes</td>\n",
       "      <td>NaN</td>\n",
       "      <td>NaN</td>\n",
       "      <td>A6912-DGA</td>\n",
       "      <td>NaN</td>\n",
       "      <td>PPTCAF01XTP1A1</td>\n",
       "      <td>10-PPTCAF01XTP1A1</td>\n",
       "      <td>NaN</td>\n",
       "      <td>NaN</td>\n",
       "      <td>Neuroblastoma</td>\n",
       "      <td>...</td>\n",
       "      <td>NaN</td>\n",
       "      <td>NaN</td>\n",
       "      <td>NaN</td>\n",
       "      <td>NaN</td>\n",
       "      <td>NaN</td>\n",
       "      <td>NaN</td>\n",
       "      <td>NaN</td>\n",
       "      <td>NaN</td>\n",
       "      <td>NaN</td>\n",
       "      <td>NaN</td>\n",
       "    </tr>\n",
       "    <tr>\n",
       "      <th>1</th>\n",
       "      <td>yes</td>\n",
       "      <td>NaN</td>\n",
       "      <td>NaN</td>\n",
       "      <td>ALL-02</td>\n",
       "      <td>BCP-ALL</td>\n",
       "      <td>PPTCALL02</td>\n",
       "      <td>10-PPTCALL02</td>\n",
       "      <td>TARGET-10-PPT085</td>\n",
       "      <td>TARGET-10-PPT085-60A-01D-human</td>\n",
       "      <td>ALL</td>\n",
       "      <td>...</td>\n",
       "      <td>NaN</td>\n",
       "      <td>NaN</td>\n",
       "      <td>NaN</td>\n",
       "      <td>NaN</td>\n",
       "      <td>NaN</td>\n",
       "      <td>NaN</td>\n",
       "      <td>NaN</td>\n",
       "      <td>NaN</td>\n",
       "      <td>NaN</td>\n",
       "      <td>NaN</td>\n",
       "    </tr>\n",
       "    <tr>\n",
       "      <th>2</th>\n",
       "      <td>yes</td>\n",
       "      <td>NaN</td>\n",
       "      <td>NaN</td>\n",
       "      <td>ALL-03</td>\n",
       "      <td>MLL-ALL</td>\n",
       "      <td>PPTCALL03</td>\n",
       "      <td>10-PPTCALL03</td>\n",
       "      <td>TARGET-10-PPT086</td>\n",
       "      <td>TARGET-10-PPT086-60A-01D-human</td>\n",
       "      <td>ALL</td>\n",
       "      <td>...</td>\n",
       "      <td>NaN</td>\n",
       "      <td>NaN</td>\n",
       "      <td>NaN</td>\n",
       "      <td>NaN</td>\n",
       "      <td>NaN</td>\n",
       "      <td>NaN</td>\n",
       "      <td>NaN</td>\n",
       "      <td>NaN</td>\n",
       "      <td>NaN</td>\n",
       "      <td>NaN</td>\n",
       "    </tr>\n",
       "  </tbody>\n",
       "</table>\n",
       "<p>3 rows × 71 columns</p>\n",
       "</div>"
      ],
      "text/plain": [
       "  Part of PPTC  Consent to Share Data? Data missing      Model Diagnosis  \\\n",
       "0          yes                     NaN          NaN  A6912-DGA       NaN   \n",
       "1          yes                     NaN          NaN     ALL-02   BCP-ALL   \n",
       "2          yes                     NaN          NaN     ALL-03   MLL-ALL   \n",
       "\n",
       "           CaseID         SampleName        TARGET-USI  \\\n",
       "0  PPTCAF01XTP1A1  10-PPTCAF01XTP1A1               NaN   \n",
       "1       PPTCALL02       10-PPTCALL02  TARGET-10-PPT085   \n",
       "2       PPTCALL03       10-PPTCALL03  TARGET-10-PPT086   \n",
       "\n",
       "             Tumor_Sample_Barcode      Histology  \\\n",
       "0                             NaN  Neuroblastoma   \n",
       "1  TARGET-10-PPT085-60A-01D-human            ALL   \n",
       "2  TARGET-10-PPT086-60A-01D-human            ALL   \n",
       "\n",
       "                   ...                  EBV PCR testing  \\\n",
       "0                  ...                              NaN   \n",
       "1                  ...                              NaN   \n",
       "2                  ...                              NaN   \n",
       "\n",
       "  Pathogenic Virus testing Lab Pathogenic Virus results  \\\n",
       "0                          NaN                      NaN   \n",
       "1                          NaN                      NaN   \n",
       "2                          NaN                      NaN   \n",
       "\n",
       "  Size of tumors harvested for banking/characterization (mm?)  \\\n",
       "0                                                NaN            \n",
       "1                                                NaN            \n",
       "2                                                NaN            \n",
       "\n",
       "  Lag passage 1 injection to harvest for banking (days?)  \\\n",
       "0                                                NaN       \n",
       "1                                                NaN       \n",
       "2                                                NaN       \n",
       "\n",
       "  Lag passage 2 injection to harvest for banking (days?) Doubling time (days)  \\\n",
       "0                                                NaN                      NaN   \n",
       "1                                                NaN                      NaN   \n",
       "2                                                NaN                      NaN   \n",
       "\n",
       "  Passage for doubling time Max number of passages documented  \\\n",
       "0                       NaN                               NaN   \n",
       "1                       NaN                               NaN   \n",
       "2                       NaN                               NaN   \n",
       "\n",
       "  Matching cell line from same patient?  \n",
       "0                                   NaN  \n",
       "1                                   NaN  \n",
       "2                                   NaN  \n",
       "\n",
       "[3 rows x 71 columns]"
      ]
     },
     "execution_count": 11,
     "metadata": {},
     "output_type": "execute_result"
    }
   ],
   "source": [
    "file = os.path.join('data', 'raw', 'master-PPTC-annotations-2018-01-29.csv')\n",
    "barcode_df = pd.read_csv(file)\n",
    "\n",
    "print(barcode_df.shape)\n",
    "barcode_df.head(3)"
   ]
  },
  {
   "cell_type": "code",
   "execution_count": 12,
   "metadata": {},
   "outputs": [
    {
     "data": {
      "text/plain": [
       "ALL                 97\n",
       "Osteosarcoma        60\n",
       "Neuroblastoma       45\n",
       "Medulloblastoma     29\n",
       "Glioblastoma        23\n",
       "Rhabdomyosarcoma    21\n",
       "Ewing Sarcoma       16\n",
       "ATRT                15\n",
       "Wilms               15\n",
       "Other               15\n",
       "Ependymoma          13\n",
       "PNET                 9\n",
       "Astrocytoma          4\n",
       "DIPG                 4\n",
       "Rhabdoid             3\n",
       "CNS germinoma        2\n",
       "AML                  2\n",
       "Name: Histology, dtype: int64"
      ]
     },
     "execution_count": 12,
     "metadata": {},
     "output_type": "execute_result"
    }
   ],
   "source": [
    "barcode_df.Histology.value_counts()"
   ]
  },
  {
   "cell_type": "markdown",
   "metadata": {},
   "source": [
    "## Load Predictions"
   ]
  },
  {
   "cell_type": "code",
   "execution_count": 13,
   "metadata": {},
   "outputs": [
    {
     "name": "stdout",
     "output_type": "stream",
     "text": [
      "(232, 5)\n"
     ]
    },
    {
     "data": {
      "text/html": [
       "<div>\n",
       "<style scoped>\n",
       "    .dataframe tbody tr th:only-of-type {\n",
       "        vertical-align: middle;\n",
       "    }\n",
       "\n",
       "    .dataframe tbody tr th {\n",
       "        vertical-align: top;\n",
       "    }\n",
       "\n",
       "    .dataframe thead th {\n",
       "        text-align: right;\n",
       "    }\n",
       "</style>\n",
       "<table border=\"1\" class=\"dataframe\">\n",
       "  <thead>\n",
       "    <tr style=\"text-align: right;\">\n",
       "      <th></th>\n",
       "      <th>sample_id</th>\n",
       "      <th>ras_score</th>\n",
       "      <th>tp53_score</th>\n",
       "      <th>ras_shuffle</th>\n",
       "      <th>tp53_shuffle</th>\n",
       "    </tr>\n",
       "  </thead>\n",
       "  <tbody>\n",
       "    <tr>\n",
       "      <th>0</th>\n",
       "      <td>PPTC-ALL-02-R</td>\n",
       "      <td>0.421396</td>\n",
       "      <td>0.280314</td>\n",
       "      <td>0.321585</td>\n",
       "      <td>0.631326</td>\n",
       "    </tr>\n",
       "    <tr>\n",
       "      <th>1</th>\n",
       "      <td>PPTC-ALL-03-R</td>\n",
       "      <td>0.672795</td>\n",
       "      <td>0.099942</td>\n",
       "      <td>0.468007</td>\n",
       "      <td>0.594246</td>\n",
       "    </tr>\n",
       "    <tr>\n",
       "      <th>2</th>\n",
       "      <td>PPTC-ALL-04-R</td>\n",
       "      <td>0.412030</td>\n",
       "      <td>0.388161</td>\n",
       "      <td>0.564658</td>\n",
       "      <td>0.273295</td>\n",
       "    </tr>\n",
       "  </tbody>\n",
       "</table>\n",
       "</div>"
      ],
      "text/plain": [
       "       sample_id  ras_score  tp53_score  ras_shuffle  tp53_shuffle\n",
       "0  PPTC-ALL-02-R   0.421396    0.280314     0.321585      0.631326\n",
       "1  PPTC-ALL-03-R   0.672795    0.099942     0.468007      0.594246\n",
       "2  PPTC-ALL-04-R   0.412030    0.388161     0.564658      0.273295"
      ]
     },
     "execution_count": 13,
     "metadata": {},
     "output_type": "execute_result"
    }
   ],
   "source": [
    "file = os.path.join('results', 'pdx_classifier_scores.tsv')\n",
    "scores_df = pd.read_table(file)\n",
    "\n",
    "print(scores_df.shape)\n",
    "scores_df.head(3)"
   ]
  },
  {
   "cell_type": "markdown",
   "metadata": {},
   "source": [
    "## Map Barcodes to Align Status"
   ]
  },
  {
   "cell_type": "code",
   "execution_count": 14,
   "metadata": {},
   "outputs": [
    {
     "data": {
      "text/html": [
       "<div>\n",
       "<style scoped>\n",
       "    .dataframe tbody tr th:only-of-type {\n",
       "        vertical-align: middle;\n",
       "    }\n",
       "\n",
       "    .dataframe tbody tr th {\n",
       "        vertical-align: top;\n",
       "    }\n",
       "\n",
       "    .dataframe thead th {\n",
       "        text-align: right;\n",
       "    }\n",
       "</style>\n",
       "<table border=\"1\" class=\"dataframe\">\n",
       "  <thead>\n",
       "    <tr style=\"text-align: right;\">\n",
       "      <th></th>\n",
       "      <th>sample_id</th>\n",
       "      <th>ras_score</th>\n",
       "      <th>tp53_score</th>\n",
       "      <th>ras_shuffle</th>\n",
       "      <th>tp53_shuffle</th>\n",
       "      <th>model_id</th>\n",
       "    </tr>\n",
       "  </thead>\n",
       "  <tbody>\n",
       "    <tr>\n",
       "      <th>0</th>\n",
       "      <td>PPTC-ALL-02-R</td>\n",
       "      <td>0.421396</td>\n",
       "      <td>0.280314</td>\n",
       "      <td>0.321585</td>\n",
       "      <td>0.631326</td>\n",
       "      <td>all02</td>\n",
       "    </tr>\n",
       "    <tr>\n",
       "      <th>1</th>\n",
       "      <td>PPTC-ALL-03-R</td>\n",
       "      <td>0.672795</td>\n",
       "      <td>0.099942</td>\n",
       "      <td>0.468007</td>\n",
       "      <td>0.594246</td>\n",
       "      <td>all03</td>\n",
       "    </tr>\n",
       "    <tr>\n",
       "      <th>2</th>\n",
       "      <td>PPTC-ALL-04-R</td>\n",
       "      <td>0.412030</td>\n",
       "      <td>0.388161</td>\n",
       "      <td>0.564658</td>\n",
       "      <td>0.273295</td>\n",
       "      <td>all04</td>\n",
       "    </tr>\n",
       "  </tbody>\n",
       "</table>\n",
       "</div>"
      ],
      "text/plain": [
       "       sample_id  ras_score  tp53_score  ras_shuffle  tp53_shuffle model_id\n",
       "0  PPTC-ALL-02-R   0.421396    0.280314     0.321585      0.631326    all02\n",
       "1  PPTC-ALL-03-R   0.672795    0.099942     0.468007      0.594246    all03\n",
       "2  PPTC-ALL-04-R   0.412030    0.388161     0.564658      0.273295    all04"
      ]
     },
     "execution_count": 14,
     "metadata": {},
     "output_type": "execute_result"
    }
   ],
   "source": [
    "model_id = (\n",
    "    scores_df.sample_id\n",
    "    .str.replace('PPTC-', '')\n",
    "    .str.replace('-R', '')\n",
    "    .str.replace('-D', '')\n",
    "    .str.replace('-', '')\n",
    "    .str.lower()\n",
    ")\n",
    "\n",
    "scores_df = scores_df.assign(model_id=model_id)\n",
    "scores_df.head(3)"
   ]
  },
  {
   "cell_type": "code",
   "execution_count": 15,
   "metadata": {},
   "outputs": [
    {
     "data": {
      "text/html": [
       "<div>\n",
       "<style scoped>\n",
       "    .dataframe tbody tr th:only-of-type {\n",
       "        vertical-align: middle;\n",
       "    }\n",
       "\n",
       "    .dataframe tbody tr th {\n",
       "        vertical-align: top;\n",
       "    }\n",
       "\n",
       "    .dataframe thead th {\n",
       "        text-align: right;\n",
       "    }\n",
       "</style>\n",
       "<table border=\"1\" class=\"dataframe\">\n",
       "  <thead>\n",
       "    <tr style=\"text-align: right;\">\n",
       "      <th></th>\n",
       "      <th>Model</th>\n",
       "      <th>model_id</th>\n",
       "      <th>Tumor_Sample_Barcode</th>\n",
       "      <th>Histology</th>\n",
       "    </tr>\n",
       "  </thead>\n",
       "  <tbody>\n",
       "    <tr>\n",
       "      <th>0</th>\n",
       "      <td>A6912-DGA</td>\n",
       "      <td>a6912dga</td>\n",
       "      <td>NaN</td>\n",
       "      <td>Neuroblastoma</td>\n",
       "    </tr>\n",
       "    <tr>\n",
       "      <th>1</th>\n",
       "      <td>ALL-02</td>\n",
       "      <td>all02</td>\n",
       "      <td>TARGET-10-PPT085-60A-01D-human</td>\n",
       "      <td>ALL</td>\n",
       "    </tr>\n",
       "    <tr>\n",
       "      <th>2</th>\n",
       "      <td>ALL-03</td>\n",
       "      <td>all03</td>\n",
       "      <td>TARGET-10-PPT086-60A-01D-human</td>\n",
       "      <td>ALL</td>\n",
       "    </tr>\n",
       "  </tbody>\n",
       "</table>\n",
       "</div>"
      ],
      "text/plain": [
       "       Model  model_id            Tumor_Sample_Barcode      Histology\n",
       "0  A6912-DGA  a6912dga                             NaN  Neuroblastoma\n",
       "1     ALL-02     all02  TARGET-10-PPT085-60A-01D-human            ALL\n",
       "2     ALL-03     all03  TARGET-10-PPT086-60A-01D-human            ALL"
      ]
     },
     "execution_count": 15,
     "metadata": {},
     "output_type": "execute_result"
    }
   ],
   "source": [
    "model_id = (\n",
    "    barcode_df.Model\n",
    "    .str.replace('-', '')\n",
    "    .str.lower()\n",
    ")\n",
    "\n",
    "barcode_df = barcode_df.assign(model_id=model_id)\n",
    "barcode_df = barcode_df.loc[:, ['Model', 'model_id', 'Tumor_Sample_Barcode', 'Histology']]\n",
    "barcode_df.head(3)"
   ]
  },
  {
   "cell_type": "code",
   "execution_count": 16,
   "metadata": {},
   "outputs": [
    {
     "data": {
      "text/html": [
       "<div>\n",
       "<style scoped>\n",
       "    .dataframe tbody tr th:only-of-type {\n",
       "        vertical-align: middle;\n",
       "    }\n",
       "\n",
       "    .dataframe tbody tr th {\n",
       "        vertical-align: top;\n",
       "    }\n",
       "\n",
       "    .dataframe thead th {\n",
       "        text-align: right;\n",
       "    }\n",
       "</style>\n",
       "<table border=\"1\" class=\"dataframe\">\n",
       "  <thead>\n",
       "    <tr style=\"text-align: right;\">\n",
       "      <th></th>\n",
       "      <th>sample_id</th>\n",
       "      <th>ras_score</th>\n",
       "      <th>tp53_score</th>\n",
       "      <th>ras_shuffle</th>\n",
       "      <th>tp53_shuffle</th>\n",
       "      <th>model_id</th>\n",
       "      <th>Model</th>\n",
       "      <th>Tumor_Sample_Barcode</th>\n",
       "      <th>Histology</th>\n",
       "    </tr>\n",
       "  </thead>\n",
       "  <tbody>\n",
       "    <tr>\n",
       "      <th>0</th>\n",
       "      <td>PPTC-ALL-02-R</td>\n",
       "      <td>0.421396</td>\n",
       "      <td>0.280314</td>\n",
       "      <td>0.321585</td>\n",
       "      <td>0.631326</td>\n",
       "      <td>all02</td>\n",
       "      <td>ALL-02</td>\n",
       "      <td>TARGET-10-PPT085-60A-01D-human</td>\n",
       "      <td>ALL</td>\n",
       "    </tr>\n",
       "    <tr>\n",
       "      <th>1</th>\n",
       "      <td>PPTC-ALL-03-R</td>\n",
       "      <td>0.672795</td>\n",
       "      <td>0.099942</td>\n",
       "      <td>0.468007</td>\n",
       "      <td>0.594246</td>\n",
       "      <td>all03</td>\n",
       "      <td>ALL-03</td>\n",
       "      <td>TARGET-10-PPT086-60A-01D-human</td>\n",
       "      <td>ALL</td>\n",
       "    </tr>\n",
       "    <tr>\n",
       "      <th>2</th>\n",
       "      <td>PPTC-ALL-04-R</td>\n",
       "      <td>0.412030</td>\n",
       "      <td>0.388161</td>\n",
       "      <td>0.564658</td>\n",
       "      <td>0.273295</td>\n",
       "      <td>all04</td>\n",
       "      <td>ALL-04</td>\n",
       "      <td>TARGET-10-PPT087-60A-02D-human</td>\n",
       "      <td>ALL</td>\n",
       "    </tr>\n",
       "  </tbody>\n",
       "</table>\n",
       "</div>"
      ],
      "text/plain": [
       "       sample_id  ras_score  tp53_score  ras_shuffle  tp53_shuffle model_id  \\\n",
       "0  PPTC-ALL-02-R   0.421396    0.280314     0.321585      0.631326    all02   \n",
       "1  PPTC-ALL-03-R   0.672795    0.099942     0.468007      0.594246    all03   \n",
       "2  PPTC-ALL-04-R   0.412030    0.388161     0.564658      0.273295    all04   \n",
       "\n",
       "    Model            Tumor_Sample_Barcode Histology  \n",
       "0  ALL-02  TARGET-10-PPT085-60A-01D-human       ALL  \n",
       "1  ALL-03  TARGET-10-PPT086-60A-01D-human       ALL  \n",
       "2  ALL-04  TARGET-10-PPT087-60A-02D-human       ALL  "
      ]
     },
     "execution_count": 16,
     "metadata": {},
     "output_type": "execute_result"
    }
   ],
   "source": [
    "scores_df = scores_df.merge(barcode_df, how='left', left_on='model_id', right_on='model_id')\n",
    "scores_df.head(3)"
   ]
  },
  {
   "cell_type": "code",
   "execution_count": 17,
   "metadata": {},
   "outputs": [],
   "source": [
    "missing_id_df = scores_df.loc[scores_df.Tumor_Sample_Barcode.isna(), :]\n",
    "use_scores_df = scores_df.loc[-scores_df.Tumor_Sample_Barcode.isna(), :]"
   ]
  },
  {
   "cell_type": "code",
   "execution_count": 18,
   "metadata": {},
   "outputs": [
    {
     "data": {
      "text/plain": [
       "(68, 9)"
      ]
     },
     "execution_count": 18,
     "metadata": {},
     "output_type": "execute_result"
    }
   ],
   "source": [
    "missing_id_df.shape"
   ]
  },
  {
   "cell_type": "code",
   "execution_count": 19,
   "metadata": {},
   "outputs": [
    {
     "data": {
      "text/html": [
       "<div>\n",
       "<style scoped>\n",
       "    .dataframe tbody tr th:only-of-type {\n",
       "        vertical-align: middle;\n",
       "    }\n",
       "\n",
       "    .dataframe tbody tr th {\n",
       "        vertical-align: top;\n",
       "    }\n",
       "\n",
       "    .dataframe thead th {\n",
       "        text-align: right;\n",
       "    }\n",
       "</style>\n",
       "<table border=\"1\" class=\"dataframe\">\n",
       "  <thead>\n",
       "    <tr style=\"text-align: right;\">\n",
       "      <th></th>\n",
       "      <th>sample_id</th>\n",
       "      <th>ras_score</th>\n",
       "      <th>tp53_score</th>\n",
       "      <th>ras_shuffle</th>\n",
       "      <th>tp53_shuffle</th>\n",
       "      <th>model_id</th>\n",
       "      <th>Model</th>\n",
       "      <th>Tumor_Sample_Barcode</th>\n",
       "      <th>Histology</th>\n",
       "      <th>Hugo_Symbol_tp53</th>\n",
       "      <th>Hugo_Symbol_ras</th>\n",
       "    </tr>\n",
       "  </thead>\n",
       "  <tbody>\n",
       "    <tr>\n",
       "      <th>0</th>\n",
       "      <td>PPTC-ALL-02-R</td>\n",
       "      <td>0.421396</td>\n",
       "      <td>0.280314</td>\n",
       "      <td>0.321585</td>\n",
       "      <td>0.631326</td>\n",
       "      <td>all02</td>\n",
       "      <td>ALL-02</td>\n",
       "      <td>TARGET-10-PPT085-60A-01D-human</td>\n",
       "      <td>ALL</td>\n",
       "      <td>NaN</td>\n",
       "      <td>NaN</td>\n",
       "    </tr>\n",
       "    <tr>\n",
       "      <th>1</th>\n",
       "      <td>PPTC-ALL-03-R</td>\n",
       "      <td>0.672795</td>\n",
       "      <td>0.099942</td>\n",
       "      <td>0.468007</td>\n",
       "      <td>0.594246</td>\n",
       "      <td>all03</td>\n",
       "      <td>ALL-03</td>\n",
       "      <td>TARGET-10-PPT086-60A-01D-human</td>\n",
       "      <td>ALL</td>\n",
       "      <td>NaN</td>\n",
       "      <td>ALK</td>\n",
       "    </tr>\n",
       "  </tbody>\n",
       "</table>\n",
       "</div>"
      ],
      "text/plain": [
       "       sample_id  ras_score  tp53_score  ras_shuffle  tp53_shuffle model_id  \\\n",
       "0  PPTC-ALL-02-R   0.421396    0.280314     0.321585      0.631326    all02   \n",
       "1  PPTC-ALL-03-R   0.672795    0.099942     0.468007      0.594246    all03   \n",
       "\n",
       "    Model            Tumor_Sample_Barcode Histology Hugo_Symbol_tp53  \\\n",
       "0  ALL-02  TARGET-10-PPT085-60A-01D-human       ALL              NaN   \n",
       "1  ALL-03  TARGET-10-PPT086-60A-01D-human       ALL              NaN   \n",
       "\n",
       "  Hugo_Symbol_ras  \n",
       "0             NaN  \n",
       "1             ALK  "
      ]
     },
     "execution_count": 19,
     "metadata": {},
     "output_type": "execute_result"
    }
   ],
   "source": [
    "use_scores_df = (\n",
    "    use_scores_df.merge(\n",
    "        tp53_status_df.loc[:, ['Hugo_Symbol', 'Tumor_Sample_Barcode']],\n",
    "        how='left', left_on='Tumor_Sample_Barcode', right_on='Tumor_Sample_Barcode'\n",
    "    )\n",
    "    .merge(\n",
    "        ras_status_df.loc[:, ['Hugo_Symbol', 'Tumor_Sample_Barcode']],\n",
    "        how='left', left_on='Tumor_Sample_Barcode', right_on='Tumor_Sample_Barcode',\n",
    "        suffixes=('_tp53', '_ras')\n",
    "    )\n",
    ")\n",
    "\n",
    "use_scores_df.head(2)"
   ]
  },
  {
   "cell_type": "code",
   "execution_count": 20,
   "metadata": {},
   "outputs": [],
   "source": [
    "use_scores_df = use_scores_df.assign(tp53_status = use_scores_df['Hugo_Symbol_tp53'])\n",
    "use_scores_df = use_scores_df.assign(ras_status = use_scores_df['Hugo_Symbol_ras'])"
   ]
  },
  {
   "cell_type": "code",
   "execution_count": 21,
   "metadata": {},
   "outputs": [
    {
     "data": {
      "text/html": [
       "<div>\n",
       "<style scoped>\n",
       "    .dataframe tbody tr th:only-of-type {\n",
       "        vertical-align: middle;\n",
       "    }\n",
       "\n",
       "    .dataframe tbody tr th {\n",
       "        vertical-align: top;\n",
       "    }\n",
       "\n",
       "    .dataframe thead th {\n",
       "        text-align: right;\n",
       "    }\n",
       "</style>\n",
       "<table border=\"1\" class=\"dataframe\">\n",
       "  <thead>\n",
       "    <tr style=\"text-align: right;\">\n",
       "      <th></th>\n",
       "      <th>sample_id</th>\n",
       "      <th>ras_score</th>\n",
       "      <th>tp53_score</th>\n",
       "      <th>ras_shuffle</th>\n",
       "      <th>tp53_shuffle</th>\n",
       "      <th>model_id</th>\n",
       "      <th>Model</th>\n",
       "      <th>Tumor_Sample_Barcode</th>\n",
       "      <th>Histology</th>\n",
       "      <th>Hugo_Symbol_tp53</th>\n",
       "      <th>Hugo_Symbol_ras</th>\n",
       "      <th>tp53_status</th>\n",
       "      <th>ras_status</th>\n",
       "    </tr>\n",
       "  </thead>\n",
       "  <tbody>\n",
       "    <tr>\n",
       "      <th>0</th>\n",
       "      <td>PPTC-ALL-02-R</td>\n",
       "      <td>0.421396</td>\n",
       "      <td>0.280314</td>\n",
       "      <td>0.321585</td>\n",
       "      <td>0.631326</td>\n",
       "      <td>all02</td>\n",
       "      <td>ALL-02</td>\n",
       "      <td>TARGET-10-PPT085-60A-01D-human</td>\n",
       "      <td>ALL</td>\n",
       "      <td>wild-type</td>\n",
       "      <td>wild-type</td>\n",
       "      <td>0</td>\n",
       "      <td>0</td>\n",
       "    </tr>\n",
       "    <tr>\n",
       "      <th>1</th>\n",
       "      <td>PPTC-ALL-03-R</td>\n",
       "      <td>0.672795</td>\n",
       "      <td>0.099942</td>\n",
       "      <td>0.468007</td>\n",
       "      <td>0.594246</td>\n",
       "      <td>all03</td>\n",
       "      <td>ALL-03</td>\n",
       "      <td>TARGET-10-PPT086-60A-01D-human</td>\n",
       "      <td>ALL</td>\n",
       "      <td>wild-type</td>\n",
       "      <td>ALK</td>\n",
       "      <td>0</td>\n",
       "      <td>1</td>\n",
       "    </tr>\n",
       "  </tbody>\n",
       "</table>\n",
       "</div>"
      ],
      "text/plain": [
       "       sample_id  ras_score  tp53_score  ras_shuffle  tp53_shuffle model_id  \\\n",
       "0  PPTC-ALL-02-R   0.421396    0.280314     0.321585      0.631326    all02   \n",
       "1  PPTC-ALL-03-R   0.672795    0.099942     0.468007      0.594246    all03   \n",
       "\n",
       "    Model            Tumor_Sample_Barcode Histology Hugo_Symbol_tp53  \\\n",
       "0  ALL-02  TARGET-10-PPT085-60A-01D-human       ALL        wild-type   \n",
       "1  ALL-03  TARGET-10-PPT086-60A-01D-human       ALL        wild-type   \n",
       "\n",
       "  Hugo_Symbol_ras  tp53_status  ras_status  \n",
       "0       wild-type            0           0  \n",
       "1             ALK            0           1  "
      ]
     },
     "execution_count": 21,
     "metadata": {},
     "output_type": "execute_result"
    }
   ],
   "source": [
    "use_scores_df.loc[:, ['tp53_status', 'ras_status']] = (\n",
    "    use_scores_df.loc[:, ['tp53_status', 'ras_status']].fillna(0)\n",
    ")\n",
    "\n",
    "use_scores_df.loc[:, ['Hugo_Symbol_tp53', 'Hugo_Symbol_ras']] = (\n",
    "    use_scores_df.loc[:, ['Hugo_Symbol_tp53', 'Hugo_Symbol_ras']].fillna('wild-type')\n",
    ")\n",
    "\n",
    "use_scores_df.loc[use_scores_df['tp53_status'] != 0, 'tp53_status'] = 1\n",
    "use_scores_df.loc[use_scores_df['ras_status'] != 0, 'ras_status'] = 1\n",
    "\n",
    "use_scores_df.head(2)"
   ]
  },
  {
   "cell_type": "code",
   "execution_count": 22,
   "metadata": {},
   "outputs": [],
   "source": [
    "sample_class = use_scores_df.loc[:, 'tp53_status']\n",
    "classifier_score = use_scores_df.loc[:, 'tp53_score']"
   ]
  },
  {
   "cell_type": "code",
   "execution_count": 23,
   "metadata": {},
   "outputs": [],
   "source": [
    "n_classes = 2\n",
    "\n",
    "fpr_pdx = {}\n",
    "tpr_pdx = {}\n",
    "precision_pdx = {}\n",
    "recall_pdx = {}\n",
    "auroc_pdx = {}\n",
    "aupr_pdx = {}\n",
    "\n",
    "fpr_shuff = {}\n",
    "tpr_shuff = {}\n",
    "precision_shuff = {}\n",
    "recall_shuff = {}\n",
    "auroc_shuff = {}\n",
    "aupr_shuff = {}\n",
    "\n",
    "idx = 0\n",
    "for status, score, shuff in zip(('ras_status', 'tp53_status'),\n",
    "                                ('ras_score', 'tp53_score'),\n",
    "                                ('ras_shuffle', 'tp53_shuffle')):\n",
    "    \n",
    "    # Obtain Metrics\n",
    "    sample_status = use_scores_df.loc[:, status]\n",
    "    sample_score = use_scores_df.loc[:, score]\n",
    "    shuffle_score = use_scores_df.loc[:, shuff]\n",
    " \n",
    "    # Get Metrics\n",
    "    fpr_pdx[idx], tpr_pdx[idx], _ = roc_curve(sample_status, sample_score)\n",
    "    precision_pdx[idx], recall_pdx[idx], _ = precision_recall_curve(sample_status, sample_score)\n",
    "    auroc_pdx[idx] = roc_auc_score(sample_status, sample_score)\n",
    "    aupr_pdx[idx] = average_precision_score(sample_status, sample_score)\n",
    "    \n",
    "    # Obtain Shuffled Metrics\n",
    "    fpr_shuff[idx], tpr_shuff[idx], _ = roc_curve(sample_status, shuffle_score)\n",
    "    precision_shuff[idx], recall_shuff[idx], _ = precision_recall_curve(sample_status, shuffle_score)\n",
    "    auroc_shuff[idx] = roc_auc_score(sample_status, shuffle_score)\n",
    "    aupr_shuff[idx] = average_precision_score(sample_status, shuffle_score)\n",
    "    \n",
    "    idx += 1"
   ]
  },
  {
   "cell_type": "code",
   "execution_count": 24,
   "metadata": {},
   "outputs": [],
   "source": [
    "if not os.path.exists('figures'):\n",
    "    os.makedirs('figures')"
   ]
  },
  {
   "cell_type": "code",
   "execution_count": 25,
   "metadata": {},
   "outputs": [
    {
     "data": {
      "image/png": "[encoded data removed]",
      "text/plain": [
       "<Figure size 288x288 with 1 Axes>"
      ]
     },
     "metadata": {},
     "output_type": "display_data"
    }
   ],
   "source": [
    "# Visualize ROC curves\n",
    "plt.subplots(figsize=(4, 4))\n",
    "\n",
    "labels = ['Ras', 'TP53']\n",
    "colors = ['#1b9e77', '#d95f02']\n",
    "\n",
    "for i in range(n_classes):\n",
    "    plt.plot(fpr_pdx[i], tpr_pdx[i],\n",
    "             label='{} (AUROC = {})'.format(labels[i], round(auroc_pdx[i], 2)),\n",
    "             linestyle='solid',\n",
    "             color=colors[i])\n",
    "\n",
    "    # Shuffled Data\n",
    "    plt.plot(fpr_shuff[i], tpr_shuff[i],\n",
    "             label='{} Shuffle (AUROC = {})'.format(labels[i], round(auroc_shuff[i], 2)),\n",
    "             linestyle='dotted',\n",
    "             color=colors[i])\n",
    "\n",
    "plt.axis('equal')\n",
    "plt.plot([0, 1], [0, 1], 'k--')\n",
    "plt.xlim([0.0, 1.0])\n",
    "plt.ylim([0.0, 1.0])\n",
    "\n",
    "plt.xlabel('False Positive Rate', fontsize=12)\n",
    "plt.ylabel('True Positive Rate', fontsize=12)\n",
    "\n",
    "plt.tick_params(labelsize=10)\n",
    "\n",
    "lgd = plt.legend(bbox_to_anchor=(1.03, 0.85),\n",
    "                 loc=2,\n",
    "                 borderaxespad=0.,\n",
    "                 fontsize=10)\n",
    "\n",
    "file = os.path.join('figures', 'pdx_classifier_roc_curve.pdf')\n",
    "plt.savefig(file, bbox_extra_artists=(lgd,), bbox_inches='tight')"
   ]
  },
  {
   "cell_type": "code",
   "execution_count": 26,
   "metadata": {},
   "outputs": [
    {
     "data": {
      "image/png": "[encoded data removed]",
      "text/plain": [
       "<Figure size 288x288 with 1 Axes>"
      ]
     },
     "metadata": {},
     "output_type": "display_data"
    }
   ],
   "source": [
    "# Visualize PR curves\n",
    "plt.subplots(figsize=(4, 4))\n",
    "\n",
    "for i in range(n_classes):\n",
    "    plt.plot(recall_pdx[i], precision_pdx[i],\n",
    "             label='{} (AUPR = {})'.format(labels[i], round(aupr_pdx[i], 2)),\n",
    "             linestyle='solid',\n",
    "             color=colors[i])\n",
    "    \n",
    "    # Shuffled Data\n",
    "    plt.plot(recall_shuff[i], precision_shuff[i],\n",
    "             label='{} Shuffle (AUPR = {})'.format(labels[i], round(aupr_shuff[i], 2)),\n",
    "             linestyle='dotted',\n",
    "             color=colors[i])\n",
    "\n",
    "plt.axis('equal')\n",
    "plt.xlim([0.0, 1.0])\n",
    "plt.ylim([0.0, 1.0])\n",
    "\n",
    "plt.xlabel('Recall', fontsize=12)\n",
    "plt.ylabel('Precision', fontsize=12)\n",
    "\n",
    "plt.tick_params(labelsize=10)\n",
    "\n",
    "lgd = plt.legend(bbox_to_anchor=(1.03, 0.85),\n",
    "                 loc=2,\n",
    "                 borderaxespad=0.,\n",
    "                 fontsize=10)\n",
    "\n",
    "file = os.path.join('figures', 'pdx_classifier_precision_recall_curve.pdf')\n",
    "plt.savefig(file, bbox_extra_artists=(lgd,), bbox_inches='tight')"
   ]
  },
  {
   "cell_type": "code",
   "execution_count": 27,
   "metadata": {},
   "outputs": [
    {
     "data": {
      "text/plain": [
       "Ttest_indResult(statistic=3.987184258407244, pvalue=0.00020591056581275365)"
      ]
     },
     "execution_count": 27,
     "metadata": {},
     "output_type": "execute_result"
    }
   ],
   "source": [
    "# Output t-test results\n",
    "t_results_ras = ttest_ind(a = use_scores_df.query('ras_status == 1').loc[:, 'ras_score'],\n",
    "                          b = use_scores_df.query('ras_status == 0').loc[:, 'ras_score'],\n",
    "                          equal_var = False)\n",
    "t_results_ras"
   ]
  },
  {
   "cell_type": "code",
   "execution_count": 28,
   "metadata": {},
   "outputs": [
    {
     "data": {
      "text/plain": [
       "Ttest_indResult(statistic=10.349531151360592, pvalue=6.380384847568855e-18)"
      ]
     },
     "execution_count": 28,
     "metadata": {},
     "output_type": "execute_result"
    }
   ],
   "source": [
    "# Output t-test results\n",
    "t_results_tp53 = ttest_ind(a = use_scores_df.query('tp53_status == 1').loc[:, 'tp53_score'],\n",
    "                          b = use_scores_df.query('tp53_status == 0').loc[:, 'tp53_score'],\n",
    "                          equal_var = False)\n",
    "t_results_tp53"
   ]
  },
  {
   "cell_type": "code",
   "execution_count": 29,
   "metadata": {},
   "outputs": [
    {
     "data": {
      "image/png": "[encoded data removed]",
      "text/plain": [
       "<Figure size 252x288 with 1 Axes>"
      ]
     },
     "metadata": {},
     "output_type": "display_data"
    }
   ],
   "source": [
    "x1, x2 = 0, 1\n",
    "x3, x4 = -0.2, 0.2\n",
    "y1, y2, h = 0.98, 1, 0.03\n",
    "\n",
    "plt.rcParams['figure.figsize']=(3.5, 4)\n",
    "ax = sns.boxplot(x=\"ras_status\",\n",
    "                 y=\"ras_score\",\n",
    "                 data=use_scores_df,\n",
    "                 palette = 'Greys',\n",
    "                 fliersize=0)\n",
    "\n",
    "ax = sns.stripplot(x=\"ras_status\",\n",
    "                   y=\"ras_score\",\n",
    "                   data=use_scores_df,\n",
    "                   dodge=True,\n",
    "                   edgecolor='black',\n",
    "                   jitter=0.25,\n",
    "                   size=4,\n",
    "                   alpha=0.65)\n",
    "\n",
    "ax.set_ylabel('Classifier Score', fontsize=12)\n",
    "ax.set_xlabel('PDX Data', fontsize=12)\n",
    "ax.set_xticklabels(['Ras Wild-Type', 'Ras Mutant'])\n",
    "\n",
    "# Add Ras T-Test Results\n",
    "plt.plot([x1, x1, x2, x2], [y1, y1+h, y1+h, y1], lw=1.2, c='black')\n",
    "plt.text(.5, y1+h, \"{:.2E}\".format(Decimal(t_results_ras.pvalue)),\n",
    "         ha='center', va='bottom', color=\"black\")\n",
    "plt.axhline(linewidth=2, y=0.5, color='black', linestyle='dashed')\n",
    "plt.tight_layout()\n",
    "\n",
    "\n",
    "file = os.path.join('figures', 'ras_predictions.pdf')\n",
    "plt.savefig(file)"
   ]
  },
  {
   "cell_type": "code",
   "execution_count": 30,
   "metadata": {},
   "outputs": [
    {
     "data": {
      "image/png": "[encoded data removed]",
      "text/plain": [
       "<Figure size 252x288 with 1 Axes>"
      ]
     },
     "metadata": {},
     "output_type": "display_data"
    }
   ],
   "source": [
    "x1, x2 = 0, 1\n",
    "x3, x4 = -0.2, 0.2\n",
    "y1, y2, h = 0.98, 1, 0.03\n",
    "\n",
    "plt.rcParams['figure.figsize']=(3.5, 4)\n",
    "ax = sns.boxplot(x=\"tp53_status\",\n",
    "                 y=\"tp53_score\",\n",
    "                 data=use_scores_df,\n",
    "                 palette = 'Greys',\n",
    "                 fliersize=0)\n",
    "\n",
    "ax = sns.stripplot(x=\"tp53_status\",\n",
    "                   y=\"tp53_score\",\n",
    "                   data=use_scores_df,\n",
    "                   dodge=True,\n",
    "                   edgecolor='black',\n",
    "                   jitter=0.25,\n",
    "                   size=4,\n",
    "                   alpha=0.65)\n",
    "\n",
    "ax.set_ylabel('Classifier Score', fontsize=12)\n",
    "ax.set_xlabel('PDX Data', fontsize=12)\n",
    "ax.set_xticklabels(['TP53 Wild-Type', 'TP53 Mutant'])\n",
    "\n",
    "# Add Ras T-Test Results\n",
    "plt.plot([x1, x1, x2, x2], [y1, y1+h, y1+h, y1], lw=1.2, c='black')\n",
    "plt.text(.5, y1+h, \"{:.2E}\".format(Decimal(t_results_tp53.pvalue)),\n",
    "         ha='center', va='bottom', color=\"black\")\n",
    "plt.axhline(linewidth=2, y=0.5, color='black', linestyle='dashed');\n",
    "plt.tight_layout()\n",
    "\n",
    "file = os.path.join('figures', 'tp53_predictions.pdf')\n",
    "plt.savefig(file)"
   ]
  },
  {
   "cell_type": "code",
   "execution_count": 31,
   "metadata": {},
   "outputs": [
    {
     "data": {
      "image/png": "[encoded data removed]",
      "text/plain": [
       "<Figure size 252x288 with 1 Axes>"
      ]
     },
     "metadata": {},
     "output_type": "display_data"
    }
   ],
   "source": [
    "ax = sns.boxplot(x=\"ras_status\",\n",
    "                 y=\"ras_score\",\n",
    "                 data=use_scores_df,\n",
    "                 hue='Histology',\n",
    "                 palette = 'Greys',\n",
    "                 fliersize=0)\n",
    "\n",
    "ax = sns.stripplot(x=\"ras_status\",\n",
    "                   y=\"ras_score\",\n",
    "                   data=use_scores_df,\n",
    "                   hue='Histology', \n",
    "                   dodge=True,\n",
    "                   edgecolor='black',\n",
    "                   jitter=0.25,\n",
    "                   size=4,\n",
    "                   alpha=0.65)\n",
    "\n",
    "ax.set_ylabel('Classifier Score', fontsize=12)\n",
    "ax.set_xlabel('Ras Status', fontsize=12)\n",
    "plt.axhline(linewidth=2, y=0.5, color='black', linestyle='dashed')\n",
    "\n",
    "handles, labels = ax.get_legend_handles_labels()\n",
    "lgd = plt.legend(handles[12:25], labels[12:25],\n",
    "               bbox_to_anchor=(1.03, 1),\n",
    "                 loc=2,\n",
    "                 borderaxespad=0.,\n",
    "                 fontsize=10)\n",
    "\n",
    "lgd.set_title(\"Histology\")\n",
    "\n",
    "file = os.path.join('figures', 'ras_predictions_histology.pdf')\n",
    "plt.savefig(file, bbox_extra_artists=(lgd,), bbox_inches='tight')"
   ]
  },
  {
   "cell_type": "code",
   "execution_count": 32,
   "metadata": {},
   "outputs": [
    {
     "data": {
      "image/png": "[encoded data removed]",
      "text/plain": [
       "<Figure size 252x288 with 1 Axes>"
      ]
     },
     "metadata": {},
     "output_type": "display_data"
    }
   ],
   "source": [
    "ax = sns.boxplot(x=\"tp53_status\",\n",
    "                 y=\"tp53_score\",\n",
    "                 data=use_scores_df,\n",
    "                 hue='Histology',\n",
    "                 palette = 'Greys',\n",
    "                 fliersize=0)\n",
    "\n",
    "ax = sns.stripplot(x=\"tp53_status\",\n",
    "                   y=\"tp53_score\",\n",
    "                   data=use_scores_df,\n",
    "                   hue='Histology', \n",
    "                   dodge=True,\n",
    "                   edgecolor='black',\n",
    "                   jitter=0.25,\n",
    "                   size=4,\n",
    "                   alpha=0.65)\n",
    "\n",
    "ax.set_ylabel('Classifier Score', fontsize=12)\n",
    "ax.set_xlabel('TP53 Status', fontsize=12)\n",
    "plt.axhline(linewidth=2, y=0.5, color='black', linestyle='dashed')\n",
    "\n",
    "handles, labels = ax.get_legend_handles_labels()\n",
    "lgd = plt.legend(handles[12:25], labels[12:25],\n",
    "               bbox_to_anchor=(1.03, 1),\n",
    "                 loc=2,\n",
    "                 borderaxespad=0.,\n",
    "                 fontsize=10)\n",
    "\n",
    "lgd.set_title(\"Histology\")\n",
    "\n",
    "file = os.path.join('figures', 'tp53_predictions_histology.pdf')\n",
    "plt.savefig(file, bbox_extra_artists=(lgd,), bbox_inches='tight')"
   ]
  }
 ],
 "metadata": {
  "kernelspec": {
   "display_name": "Python [conda env:target-classification]",
   "language": "python",
   "name": "conda-env-target-classification-py"
  },
  "language_info": {
   "codemirror_mode": {
    "name": "ipython",
    "version": 3
   },
   "file_extension": ".py",
   "mimetype": "text/x-python",
   "name": "python",
   "nbconvert_exporter": "python",
   "pygments_lexer": "ipython3",
   "version": "3.5.5"
  }
 },
 "nbformat": 4,
 "nbformat_minor": 2
}
